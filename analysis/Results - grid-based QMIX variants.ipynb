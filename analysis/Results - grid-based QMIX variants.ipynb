{
 "cells": [
  {
   "cell_type": "code",
   "execution_count": 5,
   "metadata": {},
   "outputs": [
    {
     "data": {
      "text/html": [
       "<style>.container { width:100% !important; }</style>"
      ],
      "text/plain": [
       "<IPython.core.display.HTML object>"
      ]
     },
     "metadata": {},
     "output_type": "display_data"
    }
   ],
   "source": [
    "%matplotlib inline\n",
    "from plotlib import plot_bundle_avgs, region_split, bundle_average, MongoCentral, get_mongo_db_client\n",
    "from IPython import display\n",
    "from IPython.core.display import display as dplay, HTML\n",
    "import sys\n",
    "dplay(HTML(\"<style>.container { width:100% !important; }</style>\"))\n",
    "root_dir = \"/home/nick/Project/pymarl/src\"\n",
    "sys.path = [root_dir] + sys.path # adjust to local folder structure"
   ]
  },
  {
   "cell_type": "code",
   "execution_count": 6,
   "metadata": {},
   "outputs": [],
   "source": [
    "mongo_central = MongoCentral(conf_names=[\"gandalf_pymarl\"], \n",
    "                             root_dir=root_dir)"
   ]
  },
  {
   "cell_type": "code",
   "execution_count": 7,
   "metadata": {},
   "outputs": [
    {
     "name": "stdout",
     "output_type": "stream",
     "text": [
      "Done Loading...\n",
      "{}\n"
     ]
    },
    {
     "ename": "UnboundLocalError",
     "evalue": "local variable 'property_lst' referenced before assignment",
     "output_type": "error",
     "traceback": [
      "\u001b[0;31m---------------------------------------------------------------------------\u001b[0m",
      "\u001b[0;31mUnboundLocalError\u001b[0m                         Traceback (most recent call last)",
      "\u001b[0;32m<ipython-input-7-eb84cae3f02f>\u001b[0m in \u001b[0;36m<module>\u001b[0;34m\u001b[0m\n\u001b[1;32m      5\u001b[0m bavg = bundle_average(mongo_central, [(\"ICNN\", icnn_invpen, \"test_battle_won_mean_T\", \"test_battle_won_mean_T\"),\n\u001b[1;32m      6\u001b[0m                                      ], \n\u001b[0;32m----> 7\u001b[0;31m                       no_fails=True)\n\u001b[0m\u001b[1;32m      8\u001b[0m \u001b[0;31m# print(bavg)\u001b[0m\u001b[0;34m\u001b[0m\u001b[0;34m\u001b[0m\u001b[0;34m\u001b[0m\u001b[0m\n\u001b[1;32m      9\u001b[0m \u001b[0ma\u001b[0m \u001b[0;34m=\u001b[0m \u001b[0mplot_bundle_avgs\u001b[0m\u001b[0;34m(\u001b[0m\u001b[0mbavg\u001b[0m\u001b[0;34m)\u001b[0m\u001b[0;34m\u001b[0m\u001b[0;34m\u001b[0m\u001b[0m\n",
      "\u001b[0;32m~/Project/pymarl/analysis/plotlib.py\u001b[0m in \u001b[0;36mbundle_average\u001b[0;34m(mongo_central, items, no_fails, verbose, window, t_res, min_steps)\u001b[0m\n\u001b[1;32m    172\u001b[0m \u001b[0;34m\u001b[0m\u001b[0m\n\u001b[1;32m    173\u001b[0m         \u001b[0mproperty_hash_lst\u001b[0m\u001b[0;34m.\u001b[0m\u001b[0mappend\u001b[0m\u001b[0;34m(\u001b[0m\u001b[0mproperty_hash\u001b[0m\u001b[0;34m)\u001b[0m\u001b[0;34m\u001b[0m\u001b[0;34m\u001b[0m\u001b[0m\n\u001b[0;32m--> 174\u001b[0;31m         \u001b[0mproperty_lst_lst\u001b[0m\u001b[0;34m.\u001b[0m\u001b[0mappend\u001b[0m\u001b[0;34m(\u001b[0m\u001b[0mproperty_lst\u001b[0m\u001b[0;34m)\u001b[0m\u001b[0;34m\u001b[0m\u001b[0;34m\u001b[0m\u001b[0m\n\u001b[0m\u001b[1;32m    175\u001b[0m         \u001b[0mpropertyT_lst_lst\u001b[0m\u001b[0;34m.\u001b[0m\u001b[0mappend\u001b[0m\u001b[0;34m(\u001b[0m\u001b[0mpropertyT_lst\u001b[0m\u001b[0;34m)\u001b[0m\u001b[0;34m\u001b[0m\u001b[0;34m\u001b[0m\u001b[0m\n\u001b[1;32m    176\u001b[0m         \u001b[0mendT_lst_lst\u001b[0m\u001b[0;34m.\u001b[0m\u001b[0mappend\u001b[0m\u001b[0;34m(\u001b[0m\u001b[0mendT_lst\u001b[0m\u001b[0;34m)\u001b[0m\u001b[0;34m\u001b[0m\u001b[0;34m\u001b[0m\u001b[0m\n",
      "\u001b[0;31mUnboundLocalError\u001b[0m: local variable 'property_lst' referenced before assignment"
     ]
    }
   ],
   "source": [
    "icnn_invpen = mongo_central.get_tag_names(\"vdn_smac_3m_rnn_input_action_test\")\n",
    "#naf_invpen_ll = mongo_central.get_tag_names(\"icnn_invpen_naf\")\n",
    "# pprint.pprint(icnn_invpen)\n",
    "print(icnn_invpen)\n",
    "bavg = bundle_average(mongo_central, [(\"ICNN\", icnn_invpen, \"test_battle_won_mean_T\", \"test_battle_won_mean_T\"),\n",
    "                                     ], \n",
    "                      no_fails=True)\n",
    "# print(bavg)\n",
    "a = plot_bundle_avgs(bavg)"
   ]
  },
  {
   "cell_type": "code",
   "execution_count": null,
   "metadata": {},
   "outputs": [],
   "source": []
  },
  {
   "cell_type": "code",
   "execution_count": null,
   "metadata": {},
   "outputs": [],
   "source": []
  }
 ],
 "metadata": {
  "kernelspec": {
   "display_name": "Python 3",
   "language": "python",
   "name": "python3"
  },
  "language_info": {
   "codemirror_mode": {
    "name": "ipython",
    "version": 3
   },
   "file_extension": ".py",
   "mimetype": "text/x-python",
   "name": "python",
   "nbconvert_exporter": "python",
   "pygments_lexer": "ipython3",
   "version": "3.6.8"
  }
 },
 "nbformat": 4,
 "nbformat_minor": 2
}
